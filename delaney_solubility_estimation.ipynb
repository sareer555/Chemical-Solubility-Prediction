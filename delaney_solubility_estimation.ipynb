{
 "cells": [
  {
   "cell_type": "code",
   "execution_count": 16,
   "id": "e09d183a-d0bc-42df-ae31-c9b445abfe0d",
   "metadata": {},
   "outputs": [
    {
     "data": {
      "text/html": [
       "<div>\n",
       "<style scoped>\n",
       "    .dataframe tbody tr th:only-of-type {\n",
       "        vertical-align: middle;\n",
       "    }\n",
       "\n",
       "    .dataframe tbody tr th {\n",
       "        vertical-align: top;\n",
       "    }\n",
       "\n",
       "    .dataframe thead th {\n",
       "        text-align: right;\n",
       "    }\n",
       "</style>\n",
       "<table border=\"1\" class=\"dataframe\">\n",
       "  <thead>\n",
       "    <tr style=\"text-align: right;\">\n",
       "      <th></th>\n",
       "      <th>smiles</th>\n",
       "      <th>selfies</th>\n",
       "      <th>target</th>\n",
       "      <th>MolWeight</th>\n",
       "      <th>LogP</th>\n",
       "    </tr>\n",
       "  </thead>\n",
       "  <tbody>\n",
       "    <tr>\n",
       "      <th>0</th>\n",
       "      <td>CC(C)=CCCC(C)=CC=O</td>\n",
       "      <td>[C][C][Branch1][C][C][=C][C][C][C][Branch1][C]...</td>\n",
       "      <td>0.390413</td>\n",
       "      <td>152.237</td>\n",
       "      <td>2.8780</td>\n",
       "    </tr>\n",
       "    <tr>\n",
       "      <th>1</th>\n",
       "      <td>C=CCCC</td>\n",
       "      <td>[C][=C][C][C][C]</td>\n",
       "      <td>0.090421</td>\n",
       "      <td>70.135</td>\n",
       "      <td>1.9725</td>\n",
       "    </tr>\n",
       "    <tr>\n",
       "      <th>2</th>\n",
       "      <td>CCCCCCCCCCCCCC</td>\n",
       "      <td>[C][C][C][C][C][C][C][C][C][C][C][C][C][C]</td>\n",
       "      <td>-2.464346</td>\n",
       "      <td>198.394</td>\n",
       "      <td>5.7074</td>\n",
       "    </tr>\n",
       "    <tr>\n",
       "      <th>3</th>\n",
       "      <td>CC(C)Cl</td>\n",
       "      <td>[C][C][Branch1][C][C][Cl]</td>\n",
       "      <td>0.704920</td>\n",
       "      <td>78.542</td>\n",
       "      <td>1.6336</td>\n",
       "    </tr>\n",
       "    <tr>\n",
       "      <th>4</th>\n",
       "      <td>CCC(C)CO</td>\n",
       "      <td>[C][C][C][Branch1][C][C][C][O]</td>\n",
       "      <td>1.159746</td>\n",
       "      <td>88.150</td>\n",
       "      <td>1.0248</td>\n",
       "    </tr>\n",
       "  </tbody>\n",
       "</table>\n",
       "</div>"
      ],
      "text/plain": [
       "               smiles                                            selfies  \\\n",
       "0  CC(C)=CCCC(C)=CC=O  [C][C][Branch1][C][C][=C][C][C][C][Branch1][C]...   \n",
       "1              C=CCCC                                   [C][=C][C][C][C]   \n",
       "2      CCCCCCCCCCCCCC         [C][C][C][C][C][C][C][C][C][C][C][C][C][C]   \n",
       "3             CC(C)Cl                          [C][C][Branch1][C][C][Cl]   \n",
       "4            CCC(C)CO                     [C][C][C][Branch1][C][C][C][O]   \n",
       "\n",
       "     target  MolWeight    LogP  \n",
       "0  0.390413    152.237  2.8780  \n",
       "1  0.090421     70.135  1.9725  \n",
       "2 -2.464346    198.394  5.7074  \n",
       "3  0.704920     78.542  1.6336  \n",
       "4  1.159746     88.150  1.0248  "
      ]
     },
     "execution_count": 16,
     "metadata": {},
     "output_type": "execute_result"
    }
   ],
   "source": [
    "# !pip install rdkit\n",
    "# 3. Step-by-Step Implementation\n",
    "# Step 1: Data Cleaning & Preprocessing\n",
    "import pandas as pd\n",
    "from rdkit import Chem\n",
    "from rdkit.Chem import Descriptors\n",
    "\n",
    "\n",
    "# Load dataset\n",
    "df = pd.read_csv('delaney_train.csv')\n",
    "df.head()\n",
    "\n",
    "# Calculate molecular descriptors using RDKit\n",
    "def compute_descriptors(smiles):\n",
    "    mol = Chem.MolFromSmiles(smiles)\n",
    "    mol_weight = Descriptors.MolWt(mol)\n",
    "    logP = Descriptors.MolLogP(mol)\n",
    "    return mol_weight, logP\n",
    "\n",
    "df[['MolWeight', 'LogP']] = df['smiles'].apply(\n",
    "    lambda x: pd.Series(compute_descriptors(x))\n",
    ")\n",
    "\n",
    "# Handle missing values\n",
    "df.dropna(inplace=True)\n",
    "\n",
    "# Save cleaned data\n",
    "df.to_csv('cleaned_solubility_data.csv', index=False)\n",
    "df.head()"
   ]
  },
  {
   "cell_type": "code",
   "execution_count": null,
   "id": "4acf9d68-ba41-44b9-aad1-9ff3e8dfd7ea",
   "metadata": {},
   "outputs": [],
   "source": [
    "# Step 3: Train a Regression Model"
   ]
  },
  {
   "cell_type": "code",
   "execution_count": 17,
   "id": "20ca849b-2e78-4b5d-ae4b-9ec53ff475cb",
   "metadata": {},
   "outputs": [
    {
     "name": "stdout",
     "output_type": "stream",
     "text": [
      "R² Score: 0.88\n",
      "RMSE: 0.13\n"
     ]
    }
   ],
   "source": [
    "from sklearn.model_selection import train_test_split\n",
    "from sklearn.ensemble import RandomForestRegressor\n",
    "from sklearn.metrics import mean_squared_error, r2_score\n",
    "\n",
    "# Load cleaned data\n",
    "df = pd.read_csv('cleaned_solubility_data.csv')\n",
    "\n",
    "# Features & target\n",
    "X = df[['MolWeight', 'LogP']]\n",
    "y = df['target']\n",
    "\n",
    "# Split data\n",
    "X_train, X_test, y_train, y_test = train_test_split(X, y, test_size=0.2)\n",
    "\n",
    "# Train model\n",
    "model = RandomForestRegressor(n_estimators=100)\n",
    "model.fit(X_train, y_train)\n",
    "\n",
    "# Evaluate\n",
    "y_pred = model.predict(X_test)\n",
    "print(f\"R² Score: {r2_score(y_test, y_pred):.2f}\")\n",
    "print(f\"RMSE: {mean_squared_error(y_test, y_pred):.2f}\")"
   ]
  },
  {
   "cell_type": "code",
   "execution_count": 11,
   "id": "526bf55c-1ed8-4155-b7ae-08076fb77506",
   "metadata": {},
   "outputs": [],
   "source": [
    "# # -- Example: Querying a hypothetical compound database\n",
    "# SELECT compound_id, molecular_formula, melting_point \n",
    "# FROM pubchem_compounds \n",
    "# WHERE compound_id IN (SELECT compound_id FROM solubility_data);"
   ]
  },
  {
   "cell_type": "markdown",
   "id": "5d0800b7-de77-4f24-ad0c-18d44255f6d8",
   "metadata": {},
   "source": [
    "##Step 4: Visualization"
   ]
  },
  {
   "cell_type": "code",
   "execution_count": 18,
   "id": "7498a79e-1dfe-4691-bd09-fce8e25e8e41",
   "metadata": {},
   "outputs": [
    {
     "data": {
      "image/png": "[encoded data removed]",
      "text/plain": [
       "<Figure size 640x480 with 1 Axes>"
      ]
     },
     "metadata": {},
     "output_type": "display_data"
    }
   ],
   "source": [
    "import matplotlib.pyplot as plt\n",
    "import seaborn as sns\n",
    "\n",
    "# Feature importance\n",
    "importance = pd.DataFrame({\n",
    "    'Feature': X.columns,\n",
    "    'Importance': model.feature_importances_\n",
    "}).sort_values('Importance', ascending=False)\n",
    "\n",
    "sns.barplot(x='Importance', y='Feature', data=importance)\n",
    "plt.title('Feature Importance for Solubility Prediction')\n",
    "plt.savefig('feature_importance.png')"
   ]
  },
  {
   "cell_type": "markdown",
   "id": "900e92da-c244-4da2-84a5-4b312d3b0de7",
   "metadata": {},
   "source": [
    "# Validation of Results\n",
    "LogP: ~0.8 importance\n",
    "MolWeight: ~0.2 importance\n",
    "This is consistent with chemical intuition and similar studies on solubility prediction. For example:\n",
    "\n",
    "Research papers often highlight LogP as the most critical descriptor for solubility.\n",
    "\n",
    "Molecular weight is a secondary factor, as seen in results."
   ]
  }
 ],
 "metadata": {
  "kernelspec": {
   "display_name": "Python 3 (ipykernel)",
   "language": "python",
   "name": "python3"
  },
  "language_info": {
   "codemirror_mode": {
    "name": "ipython",
    "version": 3
   },
   "file_extension": ".py",
   "mimetype": "text/x-python",
   "name": "python",
   "nbconvert_exporter": "python",
   "pygments_lexer": "ipython3",
   "version": "3.12.5"
  }
 },
 "nbformat": 4,
 "nbformat_minor": 5
}
