{
 "cells": [
  {
   "cell_type": "code",
   "execution_count": 4,
   "id": "5519cc04-7c81-4901-b53b-c623e4e7ebd4",
   "metadata": {},
   "outputs": [
    {
     "data": {
      "text/html": [
       "<div>\n",
       "<style scoped>\n",
       "    .dataframe tbody tr th:only-of-type {\n",
       "        vertical-align: middle;\n",
       "    }\n",
       "\n",
       "    .dataframe tbody tr th {\n",
       "        vertical-align: top;\n",
       "    }\n",
       "\n",
       "    .dataframe thead th {\n",
       "        text-align: right;\n",
       "    }\n",
       "</style>\n",
       "<table border=\"1\" class=\"dataframe\">\n",
       "  <thead>\n",
       "    <tr style=\"text-align: right;\">\n",
       "      <th></th>\n",
       "      <th>smiles</th>\n",
       "      <th>selfies</th>\n",
       "      <th>target</th>\n",
       "      <th>MolWeight</th>\n",
       "      <th>LogP</th>\n",
       "      <th>TPSA</th>\n",
       "      <th>NumHDonors</th>\n",
       "      <th>NumHAcceptors</th>\n",
       "      <th>NumRotatableBonds</th>\n",
       "      <th>NumAromaticRings</th>\n",
       "    </tr>\n",
       "  </thead>\n",
       "  <tbody>\n",
       "    <tr>\n",
       "      <th>0</th>\n",
       "      <td>CC(C)=CCCC(C)=CC=O</td>\n",
       "      <td>[C][C][Branch1][C][C][=C][C][C][C][Branch1][C]...</td>\n",
       "      <td>0.390413</td>\n",
       "      <td>152.237</td>\n",
       "      <td>2.8780</td>\n",
       "      <td>17.07</td>\n",
       "      <td>0.0</td>\n",
       "      <td>1.0</td>\n",
       "      <td>4.0</td>\n",
       "      <td>0.0</td>\n",
       "    </tr>\n",
       "    <tr>\n",
       "      <th>1</th>\n",
       "      <td>C=CCCC</td>\n",
       "      <td>[C][=C][C][C][C]</td>\n",
       "      <td>0.090421</td>\n",
       "      <td>70.135</td>\n",
       "      <td>1.9725</td>\n",
       "      <td>0.00</td>\n",
       "      <td>0.0</td>\n",
       "      <td>0.0</td>\n",
       "      <td>2.0</td>\n",
       "      <td>0.0</td>\n",
       "    </tr>\n",
       "    <tr>\n",
       "      <th>2</th>\n",
       "      <td>CCCCCCCCCCCCCC</td>\n",
       "      <td>[C][C][C][C][C][C][C][C][C][C][C][C][C][C]</td>\n",
       "      <td>-2.464346</td>\n",
       "      <td>198.394</td>\n",
       "      <td>5.7074</td>\n",
       "      <td>0.00</td>\n",
       "      <td>0.0</td>\n",
       "      <td>0.0</td>\n",
       "      <td>11.0</td>\n",
       "      <td>0.0</td>\n",
       "    </tr>\n",
       "    <tr>\n",
       "      <th>3</th>\n",
       "      <td>CC(C)Cl</td>\n",
       "      <td>[C][C][Branch1][C][C][Cl]</td>\n",
       "      <td>0.704920</td>\n",
       "      <td>78.542</td>\n",
       "      <td>1.6336</td>\n",
       "      <td>0.00</td>\n",
       "      <td>0.0</td>\n",
       "      <td>0.0</td>\n",
       "      <td>0.0</td>\n",
       "      <td>0.0</td>\n",
       "    </tr>\n",
       "    <tr>\n",
       "      <th>4</th>\n",
       "      <td>CCC(C)CO</td>\n",
       "      <td>[C][C][C][Branch1][C][C][C][O]</td>\n",
       "      <td>1.159746</td>\n",
       "      <td>88.150</td>\n",
       "      <td>1.0248</td>\n",
       "      <td>20.23</td>\n",
       "      <td>1.0</td>\n",
       "      <td>1.0</td>\n",
       "      <td>2.0</td>\n",
       "      <td>0.0</td>\n",
       "    </tr>\n",
       "  </tbody>\n",
       "</table>\n",
       "</div>"
      ],
      "text/plain": [
       "               smiles                                            selfies  \\\n",
       "0  CC(C)=CCCC(C)=CC=O  [C][C][Branch1][C][C][=C][C][C][C][Branch1][C]...   \n",
       "1              C=CCCC                                   [C][=C][C][C][C]   \n",
       "2      CCCCCCCCCCCCCC         [C][C][C][C][C][C][C][C][C][C][C][C][C][C]   \n",
       "3             CC(C)Cl                          [C][C][Branch1][C][C][Cl]   \n",
       "4            CCC(C)CO                     [C][C][C][Branch1][C][C][C][O]   \n",
       "\n",
       "     target  MolWeight    LogP   TPSA  NumHDonors  NumHAcceptors  \\\n",
       "0  0.390413    152.237  2.8780  17.07         0.0            1.0   \n",
       "1  0.090421     70.135  1.9725   0.00         0.0            0.0   \n",
       "2 -2.464346    198.394  5.7074   0.00         0.0            0.0   \n",
       "3  0.704920     78.542  1.6336   0.00         0.0            0.0   \n",
       "4  1.159746     88.150  1.0248  20.23         1.0            1.0   \n",
       "\n",
       "   NumRotatableBonds  NumAromaticRings  \n",
       "0                4.0               0.0  \n",
       "1                2.0               0.0  \n",
       "2               11.0               0.0  \n",
       "3                0.0               0.0  \n",
       "4                2.0               0.0  "
      ]
     },
     "execution_count": 4,
     "metadata": {},
     "output_type": "execute_result"
    }
   ],
   "source": [
    "import pandas as pd\n",
    "from rdkit import Chem\n",
    "from rdkit.Chem import Descriptors\n",
    "\n",
    "# Load dataset\n",
    "df = pd.read_csv('delaney_train.csv')\n",
    "\n",
    "# Function to compute additional descriptors\n",
    "def compute_descriptors(smiles):\n",
    "    mol = Chem.MolFromSmiles(smiles)\n",
    "    descriptors = {\n",
    "        'MolWeight': Descriptors.MolWt(mol),\n",
    "        'LogP': Descriptors.MolLogP(mol),\n",
    "        'TPSA': Descriptors.TPSA(mol),  # Polar Surface Area\n",
    "        'NumHDonors': Descriptors.NumHDonors(mol),  # Hydrogen Bond Donors\n",
    "        'NumHAcceptors': Descriptors.NumHAcceptors(mol),  # Hydrogen Bond Acceptors\n",
    "        'NumRotatableBonds': Descriptors.NumRotatableBonds(mol),  # Rotatable Bonds\n",
    "        'NumAromaticRings': Descriptors.NumAromaticRings(mol)  # Aromatic Rings\n",
    "    }\n",
    "    return pd.Series(descriptors)\n",
    "\n",
    "# Apply function to compute descriptors\n",
    "df = df.join(df['smiles'].apply(compute_descriptors))\n",
    "\n",
    "# Save updated dataset\n",
    "df.to_csv('updated_solubility_data.csv', index=False)\n",
    "df.head()"
   ]
  },
  {
   "cell_type": "markdown",
   "id": "d3589a2c-1ba5-497b-a441-72d7ded205f8",
   "metadata": {},
   "source": [
    "## Step 2: Train the Model with New Features"
   ]
  },
  {
   "cell_type": "code",
   "execution_count": 6,
   "id": "071f258e-1380-427e-bbe9-1edf9482b66b",
   "metadata": {},
   "outputs": [
    {
     "name": "stdout",
     "output_type": "stream",
     "text": [
      "R² Score: 0.88\n",
      "RMSE: 0.13\n"
     ]
    }
   ],
   "source": [
    "from sklearn.model_selection import train_test_split\n",
    "from sklearn.ensemble import RandomForestRegressor\n",
    "from sklearn.metrics import mean_squared_error, r2_score\n",
    "\n",
    "# Load updated dataset\n",
    "df = pd.read_csv('updated_solubility_data.csv')\n",
    "\n",
    "# Features & target\n",
    "features = ['MolWeight', 'LogP', 'TPSA', 'NumHDonors', 'NumHAcceptors', 'NumRotatableBonds', 'NumAromaticRings']\n",
    "X = df[features]\n",
    "y = df['target']\n",
    "\n",
    "# Split data\n",
    "X_train, X_test, y_train, y_test = train_test_split(X, y, test_size=0.2, random_state=42)\n",
    "\n",
    "# Train model\n",
    "model = RandomForestRegressor(n_estimators=100, random_state=42)\n",
    "model.fit(X_train, y_train)\n",
    "\n",
    "# Evaluate\n",
    "y_pred = model.predict(X_test)\n",
    "print(f\"R² Score: {r2_score(y_test, y_pred):.2f}\")\n",
    "print(f\"RMSE: {mean_squared_error(y_test, y_pred):.2f}\")"
   ]
  },
  {
   "cell_type": "markdown",
   "id": "bc3dae37-2938-4fc5-aac3-206d95222d21",
   "metadata": {},
   "source": [
    "## Step 4: Visualize Feature Importance"
   ]
  },
  {
   "cell_type": "code",
   "execution_count": 7,
   "id": "33fecbf5-03f6-4dcb-9b16-29e35891e8f3",
   "metadata": {},
   "outputs": [
    {
     "name": "stderr",
     "output_type": "stream",
     "text": [
      "C:\\Users\\Hafiz pc\\AppData\\Local\\Temp\\ipykernel_7708\\3716784997.py:12: FutureWarning: \n",
      "\n",
      "Passing `palette` without assigning `hue` is deprecated and will be removed in v0.14.0. Assign the `y` variable to `hue` and set `legend=False` for the same effect.\n",
      "\n",
      "  sns.barplot(x='Importance', y='Feature', data=importance, palette='viridis')\n"
     ]
    },
    {
     "data": {
      "image/png": "[encoded data removed]",
      "text/plain": [
       "<Figure size 1000x600 with 1 Axes>"
      ]
     },
     "metadata": {},
     "output_type": "display_data"
    }
   ],
   "source": [
    "import matplotlib.pyplot as plt\n",
    "import seaborn as sns\n",
    "\n",
    "# Feature importance\n",
    "importance = pd.DataFrame({\n",
    "    'Feature': features,\n",
    "    'Importance': model.feature_importances_\n",
    "}).sort_values('Importance', ascending=False)\n",
    "\n",
    "# Plot\n",
    "plt.figure(figsize=(10, 6))\n",
    "sns.barplot(x='Importance', y='Feature', data=importance, palette='viridis')\n",
    "plt.title('Feature Importance for Solubility Prediction (Updated)')\n",
    "plt.savefig('updated_feature_importance.png')\n",
    "plt.show()"
   ]
  },
  {
   "cell_type": "markdown",
   "id": "55248d30-65e4-44fd-8f49-4fb34aaf3b53",
   "metadata": {},
   "source": [
    "## Expected Results\n",
    "Improved Model Performance:\n",
    "\n",
    "R² Score: ~0.88\n",
    "\n",
    "RMSE: ~0.13 (down from 0.2)"
   ]
  }
 ],
 "metadata": {
  "kernelspec": {
   "display_name": "Python 3 (ipykernel)",
   "language": "python",
   "name": "python3"
  },
  "language_info": {
   "codemirror_mode": {
    "name": "ipython",
    "version": 3
   },
   "file_extension": ".py",
   "mimetype": "text/x-python",
   "name": "python",
   "nbconvert_exporter": "python",
   "pygments_lexer": "ipython3",
   "version": "3.12.5"
  }
 },
 "nbformat": 4,
 "nbformat_minor": 5
}
